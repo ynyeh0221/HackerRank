{
 "cells": [
  {
   "cell_type": "markdown",
   "metadata": {},
   "source": [
    "## sock merchant problem\n",
    "John works at a clothing store. He has a large pile of socks that he must pair by color for sale. Given an array of integers representing the color of each sock, determine how many pairs of socks with matching colors there are.\n",
    "\n",
    "For example, there are $n=7$\n",
    "socks with colors $ar=[1,2,1,2,1,3,2]$. There is one pair of color 1and one of color 2. There are three odd socks left, one of each color. The number of pairs is 2.\n",
    "\n",
    "### Function Description\n",
    "\n",
    "Complete the sockMerchant function in the editor below. It must return an integer representing the number of matching pairs of socks that are available.\n",
    "\n",
    "sockMerchant has the following parameter(s):\n",
    "```\n",
    "    n: the number of socks in the pile\n",
    "    ar: the colors of each sock\n",
    "```\n",
    "### Input Format\n",
    "\n",
    "The first line contains an integer\n",
    ", the number of socks represented in .\n",
    "The second line contains space-separated integers describing the colors\n",
    "\n",
    "of the socks in the pile.\n",
    "\n",
    "### Constraints\n",
    "$$\n",
    "1<=n<=100\n",
    "$$\n",
    "\n",
    "$1 <= ar[i] <= 100$ where $0 <= i < n$\n",
    "\n",
    "where\n",
    "\n",
    "### Output Format\n",
    "\n",
    "Return the total number of matching pairs of socks that John can sell.\n",
    "\n",
    "### Sample Input\n",
    "```\n",
    "9\n",
    "10 20 20 10 10 30 50 10 20\n",
    "```\n",
    "\n",
    "### Sample Output\n",
    "```\n",
    "3\n",
    "```"
   ]
  },
  {
   "cell_type": "code",
   "execution_count": 1,
   "metadata": {},
   "outputs": [],
   "source": [
    "import math\n",
    "import os\n",
    "import random\n",
    "import re\n",
    "import sys"
   ]
  },
  {
   "cell_type": "code",
   "execution_count": 2,
   "metadata": {},
   "outputs": [],
   "source": [
    "# Complete the sockMerchant function below.\n",
    "def sockMerchant(n, ar):\n",
    "    ar.sort()\n",
    "    count=0\n",
    "    count_arr = []\n",
    "    for i in range(0, (n-1)):\n",
    "        if ar[i] == ar[i+1]:\n",
    "            count=count+1\n",
    "        else:\n",
    "            count_arr.append(count)\n",
    "            count=0 # reset the count\n",
    "    count_arr.append(count)\n",
    "    \n",
    "    new_arr = []\n",
    "    for j in range(0, len(count_arr)):\n",
    "        if count_arr[j]%2 !=0:\n",
    "            new_arr.append((count_arr[j]+1)/2)\n",
    "        else:\n",
    "            new_arr.append(count_arr[j]/2)\n",
    "            \n",
    "#     print(int(sum(new_arr)))\n",
    "    \n",
    "    return int(sum(new_arr))"
   ]
  },
  {
   "cell_type": "code",
   "execution_count": 3,
   "metadata": {},
   "outputs": [],
   "source": [
    "if __name__ == '__main__':\n",
    "#     fptr = open(os.environ['OUTPUT_PATH'], 'w')\n",
    "\n",
    "#     n = int(input())\n",
    "    \n",
    "#     ar = list(map(int, input().rstrip().split()))\n",
    "    # ar = [10, 20, 20, 10, 10, 30, 50, 10, 20]\n",
    "    ar = [1, 1, 3, 1, 2, 1, 3, 3, 3, 3]\n",
    "    n=len(ar)\n",
    "    result = sockMerchant(n, ar)\n",
    "\n",
    "#     fptr.write(str(result) + '\\n')\n",
    "\n",
    "#     fptr.close()"
   ]
  },
  {
   "cell_type": "code",
   "execution_count": 4,
   "metadata": {},
   "outputs": [
    {
     "name": "stdout",
     "output_type": "stream",
     "text": [
      "4\n"
     ]
    }
   ],
   "source": [
    "print(result)"
   ]
  },
  {
   "cell_type": "code",
   "execution_count": null,
   "metadata": {},
   "outputs": [],
   "source": []
  }
 ],
 "metadata": {
  "kernelspec": {
   "display_name": "Python 3",
   "language": "python",
   "name": "python3"
  },
  "language_info": {
   "codemirror_mode": {
    "name": "ipython",
    "version": 3
   },
   "file_extension": ".py",
   "mimetype": "text/x-python",
   "name": "python",
   "nbconvert_exporter": "python",
   "pygments_lexer": "ipython3",
   "version": "3.7.3"
  }
 },
 "nbformat": 4,
 "nbformat_minor": 2
}
