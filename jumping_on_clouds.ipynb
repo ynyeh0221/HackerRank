{
 "cells": [
  {
   "cell_type": "markdown",
   "metadata": {},
   "source": [
    "# Jumping on theClouds\n",
    "\n",
    "Emma is playing a new mobile game that starts with consecutively numbered clouds. Some of the clouds are thunderheads and others are cumulus. She can jump on any cumulus cloud having a number that is equal to the number of the current cloud plus 1 or 2. She must avoid the thunderheads. Determine the minimum number of jumps it will take Emma to jump from her starting postion to the last cloud. It is always possible to win the game.\n",
    "\n",
    "For each game, Emma will get an array of clouds numbered 0 if they are safe or 1 if they must be avoided. For example, `c=[0,1,0,0,0,1,0] `indexed from 0 to 6. The number on each cloud is its index in the list so she must avoid the clouds at indexes 1 and 5. She could follow the following two paths: `0->2->4->6 ` or `0->2->3->4->6 `. The first path takes 3 jumps while the second takes 4.\n",
    "\n",
    "## Function Description\n",
    "\n",
    "Complete the jumpingOnClouds function in the editor below. It should return the minimum number of jumps required, as an integer.\n",
    "\n",
    "jumpingOnClouds has the following parameter(s):\n",
    "\n",
    "    c: an array of binary integers\n",
    "\n",
    "## Input Format\n",
    "\n",
    "The first line contains an integer `n`\n",
    ", the total number of clouds. The second line contains `n` space-separated binary integers describing clouds `c[i]` where `0<=i<n`.\n",
    "\n",
    "## Constraints\n",
    "- $2<=n<100$\n",
    "- $c \\epsilon {0,1}$\n",
    "- $c[0]=c[n-1]=0$\n",
    "\n",
    "## Output Format\n",
    "\n",
    "Print the minimum number of jumps needed to win the game.\n",
    "\n",
    "## Sample Input 0\n",
    "\n",
    "7\n",
    "0 0 1 0 0 1 0\n",
    "\n",
    "## Sample Output 0\n",
    "\n",
    "4"
   ]
  },
  {
   "cell_type": "code",
   "execution_count": 1,
   "metadata": {},
   "outputs": [],
   "source": [
    "#!/bin/python3\n",
    "\n",
    "import math\n",
    "import os\n",
    "import random\n",
    "import re\n",
    "import sys"
   ]
  },
  {
   "cell_type": "code",
   "execution_count": 2,
   "metadata": {},
   "outputs": [],
   "source": [
    "def check(s, i, c): \n",
    "    while i<=len(c)-2:\n",
    "        if i+2<len(c):\n",
    "            if c[i+2] == 0:\n",
    "                s=s+1\n",
    "                i=i+2\n",
    "            elif c[i+1] == 0:\n",
    "                s=s+1\n",
    "                i=i+1\n",
    "            else:\n",
    "                break\n",
    "        else:\n",
    "            break\n",
    "    return s\n",
    "\n",
    "# Complete the jumpingOnClouds function below.\n",
    "def jumpingOnClouds(c):\n",
    "    s=0\n",
    "    i=0\n",
    "    if c[-2] == 0:\n",
    "        steps = check(s, i, c)+1\n",
    "        return steps\n",
    "    else:\n",
    "        steps = check(s, i, c)\n",
    "        return steps\n",
    "    "
   ]
  },
  {
   "cell_type": "code",
   "execution_count": 3,
   "metadata": {},
   "outputs": [],
   "source": [
    "if __name__ == '__main__':\n",
    "#     fptr = open(os.environ['OUTPUT_PATH'], 'w')\n",
    "\n",
    "#     n = int(input())\n",
    "\n",
    "#     c = list(map(int, input().rstrip().split()))\n",
    "    c = [0, 0, 1, 0, 0, 1, 0]\n",
    "    result = jumpingOnClouds(c)\n",
    "\n",
    "#     fptr.write(str(result) + '\\n')\n",
    "\n",
    "#     fptr.close()"
   ]
  },
  {
   "cell_type": "code",
   "execution_count": 5,
   "metadata": {},
   "outputs": [
    {
     "name": "stdout",
     "output_type": "stream",
     "text": [
      "4\n"
     ]
    }
   ],
   "source": [
    "print(result)"
   ]
  },
  {
   "cell_type": "markdown",
   "metadata": {},
   "source": [
    "below solution derived from \n",
    "https://github.com/ehouarn-perret/EhouarnPerret.Python.HackerRank/blob/master/1%20-%20Algorithms/1%20-%20Implementation/7%20-%20Jumping%20on%20the%20Clouds.py"
   ]
  },
  {
   "cell_type": "code",
   "execution_count": 14,
   "metadata": {},
   "outputs": [
    {
     "name": "stdout",
     "output_type": "stream",
     "text": [
      "5\n",
      "0 1 0 1 0\n",
      "2\n"
     ]
    }
   ],
   "source": [
    "n = int(input().strip())\n",
    "clouds = [int(tmp) for tmp in input().strip().split(' ')]\n",
    "current = 0\n",
    "end = n - 1\n",
    "jumps = 0\n",
    "while current < end:\n",
    "\tif ((current + 2) <= end) and (clouds[current + 2] == 0):\n",
    "\t\tcurrent += 2\n",
    "\t\tjumps += 1\n",
    "\telif clouds[current + 1] == 0:\n",
    "\t\tcurrent += 1\n",
    "\t\tjumps += 1\n",
    "        \n",
    "print(jumps)"
   ]
  },
  {
   "cell_type": "code",
   "execution_count": null,
   "metadata": {},
   "outputs": [],
   "source": []
  }
 ],
 "metadata": {
  "kernelspec": {
   "display_name": "Python 3",
   "language": "python",
   "name": "python3"
  },
  "language_info": {
   "codemirror_mode": {
    "name": "ipython",
    "version": 3
   },
   "file_extension": ".py",
   "mimetype": "text/x-python",
   "name": "python",
   "nbconvert_exporter": "python",
   "pygments_lexer": "ipython3",
   "version": "3.7.3"
  }
 },
 "nbformat": 4,
 "nbformat_minor": 2
}
