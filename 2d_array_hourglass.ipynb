{
 "cells": [
  {
   "cell_type": "markdown",
   "metadata": {},
   "source": [
    "## Hourglass problem\n",
    "We define an hourglass in to be a subset of values with indices falling in this pattern in 's graphical representation:"
   ]
  },
  {
   "cell_type": "markdown",
   "metadata": {},
   "source": [
    "```\n",
    "1 1 1 0 0 0\n",
    "0 1 0 0 0 0\n",
    "1 1 1 0 0 0\n",
    "0 0 0 0 0 0\n",
    "0 0 0 0 0 0\n",
    "0 0 0 0 0 0\n",
    "```\n",
    "\n",
    "```\n",
    "a b c\n",
    "  d\n",
    "e f g\n",
    "```"
   ]
  },
  {
   "cell_type": "markdown",
   "metadata": {},
   "source": [
    "Function Description\n",
    "\n",
    "Complete the function hourglassSum in the editor below. It should return an integer, the maximum hourglass sum in the array.\n",
    "\n",
    "hourglassSum has the following parameter(s):\n",
    "\n",
    "    arr: an array of integers\n",
    "\n",
    "Input Format\n",
    "\n",
    "Each of the\n",
    "lines of inputs contains space-separated integers\n",
    "\n",
    ".\n",
    "\n",
    "Constraints\n",
    "\n",
    "$ -9 <= arr[j][i] < 9 $\n",
    "\n",
    "\n",
    "$ 0 <= j,i  < 5 $\n",
    "\n",
    "Output Format\n",
    "\n",
    "Print the largest (maximum) hourglass sum found in\n",
    "."
   ]
  },
  {
   "cell_type": "code",
   "execution_count": 10,
   "metadata": {},
   "outputs": [],
   "source": [
    "#!/bin/python3\n",
    "\n",
    "import math\n",
    "import os\n",
    "import random\n",
    "import re\n",
    "import sys"
   ]
  },
  {
   "cell_type": "code",
   "execution_count": 7,
   "metadata": {},
   "outputs": [],
   "source": [
    "def hourglassSum(arr):\n",
    "    matrix = []\n",
    "    sum = 0\n",
    "    for j in range(0, len(arr)-2):\n",
    "        for i in range(0, len(arr)-2):\n",
    "            sum = arr[j][i]+arr[j][i+1]+arr[j][i+2]+arr[j+1][i+1]+arr[j+2][i]+arr[j+2][i+1]+arr[j+2][i+2]\n",
    "            matrix.append(sum)\n",
    "    return max(matrix)"
   ]
  },
  {
   "cell_type": "code",
   "execution_count": 8,
   "metadata": {},
   "outputs": [
    {
     "name": "stdout",
     "output_type": "stream",
     "text": [
      "19\n"
     ]
    }
   ],
   "source": [
    "if __name__ == '__main__':\n",
    "#     fptr = open(os.environ['OUTPUT_PATH'], 'w')\n",
    "\n",
    "#     arr = []\n",
    "    arr = [[1,1,1,0,0,0], [0,1,0,0,0,0], [1,1,1,0,0,0], [0,0,2,4,4,0], [0,0,0,2,0,0,0], [0,0,1,2,4,0]]\n",
    "#     for _ in range(6):\n",
    "#         arr.append(list(map(int, input().rstrip().split())))\n",
    "\n",
    "    result = hourglassSum(arr)\n",
    "    print(result)\n",
    "\n",
    "#     fptr.write(str(result) + '\\n')\n",
    "\n",
    "#     fptr.close()\n"
   ]
  }
 ],
 "metadata": {
  "kernelspec": {
   "display_name": "Python 3",
   "language": "python",
   "name": "python3"
  },
  "language_info": {
   "codemirror_mode": {
    "name": "ipython",
    "version": 3
   },
   "file_extension": ".py",
   "mimetype": "text/x-python",
   "name": "python",
   "nbconvert_exporter": "python",
   "pygments_lexer": "ipython3",
   "version": "3.7.3"
  }
 },
 "nbformat": 4,
 "nbformat_minor": 2
}
